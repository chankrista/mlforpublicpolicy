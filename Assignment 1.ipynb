{
 "cells": [
  {
   "cell_type": "markdown",
   "metadata": {},
   "source": [
    "# Problem 1: Data Acquisition and Analysis"
   ]
  },
  {
   "cell_type": "code",
   "execution_count": null,
   "metadata": {},
   "outputs": [],
   "source": [
    "from sodapy import Socrata\n",
    "import pandas as pd\n",
    "import geopandas\n",
    "from shapely.geometry import Point\n",
    "from shapely.geometry import Polygon\n",
    "from shapely.geometry import MultiPolygon"
   ]
  },
  {
   "cell_type": "markdown",
   "metadata": {},
   "source": [
    "## Download reported crime data from the Chicago open data portal for 2017 and 2018."
   ]
  },
  {
   "cell_type": "code",
   "execution_count": 150,
   "metadata": {},
   "outputs": [],
   "source": [
    "client = Socrata(\"data.cityofchicago.org\", '6sr95dE6LHGM6Ga2Z2kOU2OfL')\n",
    "results = client.get(\"6zsd-86xi\", limit=600000, where='year == 2017 OR year == 2018')\n",
    "crime_df = geopandas.GeoDataFrame(results)"
   ]
  },
  {
   "cell_type": "markdown",
   "metadata": {},
   "source": [
    "# Problem 2: Data Augmentation and APIs"
   ]
  },
  {
   "cell_type": "code",
   "execution_count": null,
   "metadata": {},
   "outputs": [],
   "source": [
    "census_blocks = client.get(\"bt9m-d2mf\")\n",
    "blocks_df = geopandas.GeoDataFrame(census_blocks)"
   ]
  },
  {
   "cell_type": "code",
   "execution_count": 152,
   "metadata": {},
   "outputs": [],
   "source": [
    "def convert_point(row):\n",
    "    '''\n",
    "    Given a row from a dataframe, takes the longitude and latitude columns\n",
    "    and returns a shapely Point object.\n",
    "    '''\n",
    "    if pd.isnull(row['longitude']) or pd.isnull(row['latitude']):\n",
    "        return None\n",
    "    return Point(float(row['longitude']), float(row['latitude']))"
   ]
  },
  {
   "cell_type": "code",
   "execution_count": 153,
   "metadata": {},
   "outputs": [],
   "source": [
    "def convert_polygon(row):\n",
    "    '''\n",
    "    Given a row from a dataframe, takes the 'the_geom' columns\n",
    "    and returns a shapely Polygon or MultiPolygon object.\n",
    "    '''\n",
    "    coordinates_list = row['the_geom'].get('coordinates')\n",
    "    polygon_list = []\n",
    "    for coordinates in coordinates_list:\n",
    "        while type(coordinates[0][0]) is list:\n",
    "            coordinates = coordinates[0]\n",
    "        polygon_list.append(Polygon(coordinates))\n",
    "    return MultiPolygon(polygon_list)"
   ]
  },
  {
   "cell_type": "code",
   "execution_count": 155,
   "metadata": {},
   "outputs": [],
   "source": [
    "crime_df['geometry'] = crime_df.apply(convert_point, axis=1)\n",
    "blocks_df['geometry'] = blocks_df.apply(convert_polygon, axis=1)\n",
    "crime_block_df = geopandas.sjoin(crime_df.loc[crime_df.geometry.notna()], blocks_df, how='left')"
   ]
  },
  {
   "cell_type": "code",
   "execution_count": 162,
   "metadata": {},
   "outputs": [
    {
     "data": {
      "text/html": [
       "<div>\n",
       "<style scoped>\n",
       "    .dataframe tbody tr th:only-of-type {\n",
       "        vertical-align: middle;\n",
       "    }\n",
       "\n",
       "    .dataframe tbody tr th {\n",
       "        vertical-align: top;\n",
       "    }\n",
       "\n",
       "    .dataframe thead th {\n",
       "        text-align: right;\n",
       "    }\n",
       "</style>\n",
       "<table border=\"1\" class=\"dataframe\">\n",
       "  <thead>\n",
       "    <tr style=\"text-align: right;\">\n",
       "      <th></th>\n",
       "      <th>blockce10</th>\n",
       "      <th>countyfp10</th>\n",
       "      <th>geoid10</th>\n",
       "      <th>name10</th>\n",
       "      <th>statefp10</th>\n",
       "      <th>the_geom</th>\n",
       "      <th>tract_bloc</th>\n",
       "      <th>tractce10</th>\n",
       "      <th>geometry</th>\n",
       "    </tr>\n",
       "  </thead>\n",
       "  <tbody>\n",
       "    <tr>\n",
       "      <th>0</th>\n",
       "      <td>2010</td>\n",
       "      <td>031</td>\n",
       "      <td>170316903002010</td>\n",
       "      <td>Block 2010</td>\n",
       "      <td>17</td>\n",
       "      <td>{'type': 'MultiPolygon', 'coordinates': [[[[-8...</td>\n",
       "      <td>6903002010</td>\n",
       "      <td>690300</td>\n",
       "      <td>(POLYGON ((-87.62906799941059 41.7690860000715...</td>\n",
       "    </tr>\n",
       "    <tr>\n",
       "      <th>1</th>\n",
       "      <td>3007</td>\n",
       "      <td>031</td>\n",
       "      <td>170316809003007</td>\n",
       "      <td>Block 3007</td>\n",
       "      <td>17</td>\n",
       "      <td>{'type': 'MultiPolygon', 'coordinates': [[[[-8...</td>\n",
       "      <td>6809003007</td>\n",
       "      <td>680900</td>\n",
       "      <td>(POLYGON ((-87.6341179992764 41.77446599958471...</td>\n",
       "    </tr>\n",
       "    <tr>\n",
       "      <th>2</th>\n",
       "      <td>3013</td>\n",
       "      <td>031</td>\n",
       "      <td>170316809003013</td>\n",
       "      <td>Block 3013</td>\n",
       "      <td>17</td>\n",
       "      <td>{'type': 'MultiPolygon', 'coordinates': [[[[-8...</td>\n",
       "      <td>6809003013</td>\n",
       "      <td>680900</td>\n",
       "      <td>(POLYGON ((-87.63485400018324 41.7726330002261...</td>\n",
       "    </tr>\n",
       "    <tr>\n",
       "      <th>3</th>\n",
       "      <td>4019</td>\n",
       "      <td>031</td>\n",
       "      <td>170312909004019</td>\n",
       "      <td>Block 4019</td>\n",
       "      <td>17</td>\n",
       "      <td>{'type': 'MultiPolygon', 'coordinates': [[[[-8...</td>\n",
       "      <td>2909004019</td>\n",
       "      <td>290900</td>\n",
       "      <td>(POLYGON ((-87.73841099998789 41.8591310003707...</td>\n",
       "    </tr>\n",
       "    <tr>\n",
       "      <th>4</th>\n",
       "      <td>4016</td>\n",
       "      <td>031</td>\n",
       "      <td>170312925004016</td>\n",
       "      <td>Block 4016</td>\n",
       "      <td>17</td>\n",
       "      <td>{'type': 'MultiPolygon', 'coordinates': [[[[-8...</td>\n",
       "      <td>2925004016</td>\n",
       "      <td>292500</td>\n",
       "      <td>(POLYGON ((-87.73217300001724 41.8547640004652...</td>\n",
       "    </tr>\n",
       "  </tbody>\n",
       "</table>\n",
       "</div>"
      ],
      "text/plain": [
       "  blockce10 countyfp10          geoid10      name10 statefp10  \\\n",
       "0      2010        031  170316903002010  Block 2010        17   \n",
       "1      3007        031  170316809003007  Block 3007        17   \n",
       "2      3013        031  170316809003013  Block 3013        17   \n",
       "3      4019        031  170312909004019  Block 4019        17   \n",
       "4      4016        031  170312925004016  Block 4016        17   \n",
       "\n",
       "                                            the_geom  tract_bloc tractce10  \\\n",
       "0  {'type': 'MultiPolygon', 'coordinates': [[[[-8...  6903002010    690300   \n",
       "1  {'type': 'MultiPolygon', 'coordinates': [[[[-8...  6809003007    680900   \n",
       "2  {'type': 'MultiPolygon', 'coordinates': [[[[-8...  6809003013    680900   \n",
       "3  {'type': 'MultiPolygon', 'coordinates': [[[[-8...  2909004019    290900   \n",
       "4  {'type': 'MultiPolygon', 'coordinates': [[[[-8...  2925004016    292500   \n",
       "\n",
       "                                            geometry  \n",
       "0  (POLYGON ((-87.62906799941059 41.7690860000715...  \n",
       "1  (POLYGON ((-87.6341179992764 41.77446599958471...  \n",
       "2  (POLYGON ((-87.63485400018324 41.7726330002261...  \n",
       "3  (POLYGON ((-87.73841099998789 41.8591310003707...  \n",
       "4  (POLYGON ((-87.73217300001724 41.8547640004652...  "
      ]
     },
     "execution_count": 162,
     "metadata": {},
     "output_type": "execute_result"
    }
   ],
   "source": [
    "blocks_df.head()"
   ]
  },
  {
   "cell_type": "code",
   "execution_count": 173,
   "metadata": {},
   "outputs": [
    {
     "data": {
      "text/plain": [
       "year\n",
       "2017    268098\n",
       "2018    266272\n",
       "dtype: int64"
      ]
     },
     "execution_count": 173,
     "metadata": {},
     "output_type": "execute_result"
    }
   ],
   "source": [
    "crime_df.groupby(by='year').size()"
   ]
  },
  {
   "cell_type": "markdown",
   "metadata": {},
   "source": [
    "Total crimes in 2017 was 268,098 and total crimes in 2018 was 266,272."
   ]
  }
 ],
 "metadata": {
  "kernelspec": {
   "display_name": "Python 3",
   "language": "python",
   "name": "python3"
  },
  "language_info": {
   "codemirror_mode": {
    "name": "ipython",
    "version": 3
   },
   "file_extension": ".py",
   "mimetype": "text/x-python",
   "name": "python",
   "nbconvert_exporter": "python",
   "pygments_lexer": "ipython3",
   "version": "3.7.3"
  }
 },
 "nbformat": 4,
 "nbformat_minor": 2
}
