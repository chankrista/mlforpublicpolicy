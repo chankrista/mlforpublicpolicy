{
 "cells": [
  {
   "cell_type": "code",
   "execution_count": 1,
   "metadata": {},
   "outputs": [],
   "source": [
    "import pandas as pd\n",
    "import preprocessing_hw3 as pp\n",
    "import seaborn as sb\n",
    "import numpy as np"
   ]
  },
  {
   "cell_type": "markdown",
   "metadata": {},
   "source": [
    "First, I will read in the data from donorschoose.com. Students reached is an important continuous variable that I will want to use as a feature so I will fill in missing values from that field with the mean value of that column."
   ]
  },
  {
   "cell_type": "code",
   "execution_count": 2,
   "metadata": {},
   "outputs": [],
   "source": [
    "project_raw = pd.read_csv(\"projects_2012_2013.csv\")"
   ]
  },
  {
   "cell_type": "code",
   "execution_count": 3,
   "metadata": {},
   "outputs": [],
   "source": [
    "project = project_raw\n",
    "project['students_reached'] = project['students_reached'].fillna(project['students_reached'].mean())"
   ]
  },
  {
   "cell_type": "code",
   "execution_count": null,
   "metadata": {},
   "outputs": [
    {
     "data": {
      "text/plain": [
       "Index(['projectid', 'teacher_acctid', 'schoolid', 'school_ncesid',\n",
       "       'school_latitude', 'school_longitude', 'school_city', 'school_state',\n",
       "       'school_metro', 'school_district', 'school_county', 'school_charter',\n",
       "       'school_magnet', 'teacher_prefix', 'primary_focus_subject',\n",
       "       'primary_focus_area', 'secondary_focus_subject', 'secondary_focus_area',\n",
       "       'resource_type', 'poverty_level', 'grade_level',\n",
       "       'total_price_including_optional_support', 'students_reached',\n",
       "       'eligible_double_your_impact_match', 'date_posted', 'datefullyfunded'],\n",
       "      dtype='object')"
      ]
     },
     "execution_count": 4,
     "metadata": {},
     "output_type": "execute_result"
    }
   ],
   "source": [
    "project.columns"
   ]
  },
  {
   "cell_type": "markdown",
   "metadata": {},
   "source": [
    "I will need to calculate a target dummy variable which indicates whether the project was not fully funded within 60 days of postig."
   ]
  },
  {
   "cell_type": "code",
   "execution_count": 4,
   "metadata": {},
   "outputs": [],
   "source": [
    "project['date_posted'] = pd.to_datetime(project.date_posted)"
   ]
  },
  {
   "cell_type": "code",
   "execution_count": 5,
   "metadata": {},
   "outputs": [],
   "source": [
    "project['datefullyfunded'] = pd.to_datetime(project.datefullyfunded)"
   ]
  },
  {
   "cell_type": "code",
   "execution_count": 6,
   "metadata": {},
   "outputs": [],
   "source": [
    "project['days_funded'] = project['datefullyfunded'] - project['date_posted']"
   ]
  },
  {
   "cell_type": "code",
   "execution_count": 7,
   "metadata": {},
   "outputs": [],
   "source": [
    "project['over_60'] = np.where(project['days_funded'].dt.days > 60, 1, 0)"
   ]
  },
  {
   "cell_type": "markdown",
   "metadata": {},
   "source": [
    "To be able to use sci-kit learn packages on this data, I need to convert categorical variables into dummy variables."
   ]
  },
  {
   "cell_type": "code",
   "execution_count": 8,
   "metadata": {},
   "outputs": [],
   "source": [
    "project = pp.create_dummies(\n",
    "    project, colnames=['school_metro',\n",
    "                        'school_charter',\n",
    "                        'school_magnet',\n",
    "                        'primary_focus_area',\n",
    "                        'resource_type',\n",
    "                        'poverty_level',\n",
    "                        'grade_level',\n",
    "                        'eligible_double_your_impact_match'])"
   ]
  },
  {
   "cell_type": "markdown",
   "metadata": {},
   "source": [
    "I use a function in my pipeline to create 3 training and test sets using rolling 6 month windows."
   ]
  },
  {
   "cell_type": "code",
   "execution_count": 9,
   "metadata": {},
   "outputs": [],
   "source": [
    "train_test_sets = pp.time_split_df(project, 'date_posted', 3)"
   ]
  },
  {
   "cell_type": "markdown",
   "metadata": {},
   "source": [
    "I can now loop through various models and thresholds for each training and test set to view evaluation metrics and compare performance between models. Below are the date ranges on date_posted for each training and test set."
   ]
  },
  {
   "cell_type": "code",
   "execution_count": 11,
   "metadata": {},
   "outputs": [
    {
     "name": "stdout",
     "output_type": "stream",
     "text": [
      "Train set 1: 2012-01-01 00:00:00 - 2012-07-01 00:00:00\n",
      "Test set 1: 2012-07-02 00:00:00 - 2012-12-30 00:00:00\n",
      "\n",
      "Train set 2: 2012-01-01 00:00:00 - 2012-12-30 00:00:00\n",
      "Test set 2: 2012-12-31 00:00:00 - 2013-07-01 00:00:00\n",
      "\n",
      "Train set 3: 2012-01-01 00:00:00 - 2013-07-01 00:00:00\n",
      "Test set 3: 2013-07-02 00:00:00 - 2013-12-30 00:00:00\n"
     ]
    }
   ],
   "source": [
    "print(\"Train set 1: \" + str(train_test_sets[0][0].date_posted.min()) + \" - \" + str(train_test_sets[0][0].date_posted.max()))\n",
    "print(\"Test set 1: \" + str(train_test_sets[0][1].date_posted.min()) + \" - \" + str(train_test_sets[0][1].date_posted.max()))\n",
    "print()\n",
    "print(\"Train set 2: \" + str(train_test_sets[1][0].date_posted.min()) + \" - \" + str(train_test_sets[1][0].date_posted.max()))\n",
    "print(\"Test set 2: \" + str(train_test_sets[1][1].date_posted.min()) + \" - \" + str(train_test_sets[1][1].date_posted.max()))\n",
    "print()\n",
    "print(\"Train set 3: \" + str(train_test_sets[2][0].date_posted.min()) + \" - \" + str(train_test_sets[2][0].date_posted.max()))\n",
    "print(\"Test set 3: \" + str(train_test_sets[2][1].date_posted.min()) + \" - \" + str(train_test_sets[2][1].date_posted.max()))"
   ]
  },
  {
   "cell_type": "code",
   "execution_count": 12,
   "metadata": {},
   "outputs": [
    {
     "name": "stdout",
     "output_type": "stream",
     "text": [
      "Training and test set 1\n"
     ]
    },
    {
     "name": "stderr",
     "output_type": "stream",
     "text": [
      "C:\\ProgramData\\Anaconda3\\lib\\site-packages\\sklearn\\ensemble\\forest.py:246: FutureWarning: The default value of n_estimators will change from 10 in version 0.20 to 100 in 0.22.\n",
      "  \"10 in version 0.20 to 100 in 0.22.\", FutureWarning)\n",
      "C:\\ProgramData\\Anaconda3\\lib\\site-packages\\sklearn\\linear_model\\logistic.py:433: FutureWarning: Default solver will be changed to 'lbfgs' in 0.22. Specify a solver to silence this warning.\n",
      "  FutureWarning)\n",
      "C:\\ProgramData\\Anaconda3\\lib\\site-packages\\sklearn\\svm\\base.py:931: ConvergenceWarning: Liblinear failed to converge, increase the number of iterations.\n",
      "  \"the number of iterations.\", ConvergenceWarning)\n"
     ]
    },
    {
     "name": "stdout",
     "output_type": "stream",
     "text": [
      "Random Forest\n",
      "\n",
      "At threshold 0.01:\n",
      "\n",
      "True negatives: 3715.00\n",
      "False positives: 20469.00\n",
      "False negatives: 636.00\n",
      "True positives: 7720.00\n",
      "\n",
      "    accuracy 0.35\n",
      "    precision 0.27\n",
      "    recall 0.92\n",
      "\n",
      "At threshold 0.02:\n",
      "\n",
      "True negatives: 3715.00\n",
      "False positives: 20469.00\n",
      "False negatives: 636.00\n",
      "True positives: 7720.00\n",
      "\n",
      "    accuracy 0.35\n",
      "    precision 0.27\n",
      "    recall 0.92\n",
      "\n",
      "At threshold 0.05:\n",
      "\n",
      "True negatives: 3720.00\n",
      "False positives: 20464.00\n",
      "False negatives: 638.00\n",
      "True positives: 7718.00\n",
      "\n",
      "    accuracy 0.35\n",
      "    precision 0.27\n",
      "    recall 0.92\n",
      "\n",
      "At threshold 0.1:\n",
      "\n",
      "True negatives: 3727.00\n",
      "False positives: 20457.00\n",
      "False negatives: 641.00\n",
      "True positives: 7715.00\n",
      "\n",
      "    accuracy 0.35\n",
      "    precision 0.27\n",
      "    recall 0.92\n",
      "\n",
      "At threshold 0.2:\n",
      "\n",
      "True negatives: 7936.00\n",
      "False positives: 16248.00\n",
      "False negatives: 1679.00\n",
      "True positives: 6677.00\n",
      "\n",
      "    accuracy 0.45\n",
      "    precision 0.29\n",
      "    recall 0.80\n",
      "\n",
      "At threshold 0.3:\n",
      "\n",
      "True negatives: 11826.00\n",
      "False positives: 12358.00\n",
      "False negatives: 2954.00\n",
      "True positives: 5402.00\n",
      "\n",
      "    accuracy 0.53\n",
      "    precision 0.30\n",
      "    recall 0.65\n",
      "\n",
      "At threshold 0.5:\n",
      "\n",
      "True negatives: 17903.00\n",
      "False positives: 6281.00\n",
      "False negatives: 5206.00\n",
      "True positives: 3150.00\n",
      "\n",
      "    accuracy 0.65\n",
      "    precision 0.33\n",
      "    recall 0.38\n",
      "ROC AUC Score 0.60\n"
     ]
    },
    {
     "data": {
      "text/plain": [
       "<Figure size 432x288 with 0 Axes>"
      ]
     },
     "metadata": {},
     "output_type": "display_data"
    },
    {
     "data": {
      "image/png": "[encoded data removed]",
      "text/plain": [
       "<Figure size 432x288 with 2 Axes>"
      ]
     },
     "metadata": {
      "needs_background": "light"
     },
     "output_type": "display_data"
    },
    {
     "name": "stdout",
     "output_type": "stream",
     "text": [
      "----------\n",
      "\n",
      "Ada Boost\n",
      "\n",
      "At threshold 0.01:\n",
      "\n",
      "True negatives: 0.00\n",
      "False positives: 24184.00\n",
      "False negatives: 0.00\n",
      "True positives: 8356.00\n",
      "\n",
      "    accuracy 0.26\n",
      "    precision 0.26\n",
      "    recall 1.00\n",
      "\n",
      "At threshold 0.02:\n",
      "\n",
      "True negatives: 0.00\n",
      "False positives: 24184.00\n",
      "False negatives: 0.00\n",
      "True positives: 8356.00\n",
      "\n",
      "    accuracy 0.26\n",
      "    precision 0.26\n",
      "    recall 1.00\n",
      "\n",
      "At threshold 0.05:\n",
      "\n",
      "True negatives: 0.00\n",
      "False positives: 24184.00\n",
      "False negatives: 0.00\n",
      "True positives: 8356.00\n",
      "\n",
      "    accuracy 0.26\n",
      "    precision 0.26\n",
      "    recall 1.00\n",
      "\n",
      "At threshold 0.1:\n",
      "\n",
      "True negatives: 0.00\n",
      "False positives: 24184.00\n",
      "False negatives: 0.00\n",
      "True positives: 8356.00\n",
      "\n",
      "    accuracy 0.26\n",
      "    precision 0.26\n",
      "    recall 1.00\n",
      "\n",
      "At threshold 0.2:\n",
      "\n",
      "True negatives: 0.00\n",
      "False positives: 24184.00\n",
      "False negatives: 0.00\n",
      "True positives: 8356.00\n",
      "\n",
      "    accuracy 0.26\n",
      "    precision 0.26\n",
      "    recall 1.00\n",
      "\n",
      "At threshold 0.3:\n",
      "\n",
      "True negatives: 0.00\n",
      "False positives: 24184.00\n",
      "False negatives: 0.00\n",
      "True positives: 8356.00\n",
      "\n",
      "    accuracy 0.26\n",
      "    precision 0.26\n",
      "    recall 1.00\n",
      "\n",
      "At threshold 0.5:\n",
      "\n",
      "True negatives: 22328.00\n",
      "False positives: 1856.00\n",
      "False negatives: 6943.00\n",
      "True positives: 1413.00\n",
      "\n",
      "    accuracy 0.73\n",
      "    precision 0.43\n",
      "    recall 0.17\n",
      "ROC AUC Score 0.67\n"
     ]
    },
    {
     "data": {
      "text/plain": [
       "<Figure size 432x288 with 0 Axes>"
      ]
     },
     "metadata": {},
     "output_type": "display_data"
    },
    {
     "data": {
      "image/png": "[encoded data removed]",
      "text/plain": [
       "<Figure size 432x288 with 2 Axes>"
      ]
     },
     "metadata": {
      "needs_background": "light"
     },
     "output_type": "display_data"
    },
    {
     "name": "stdout",
     "output_type": "stream",
     "text": [
      "----------\n",
      "\n",
      "Logistic Regression\n",
      "\n",
      "At threshold 0.01:\n",
      "\n",
      "True negatives: 18.00\n",
      "False positives: 24166.00\n",
      "False negatives: 0.00\n",
      "True positives: 8356.00\n",
      "\n",
      "    accuracy 0.26\n",
      "    precision 0.26\n",
      "    recall 1.00\n",
      "\n",
      "At threshold 0.02:\n",
      "\n",
      "True negatives: 56.00\n",
      "False positives: 24128.00\n",
      "False negatives: 2.00\n",
      "True positives: 8354.00\n",
      "\n",
      "    accuracy 0.26\n",
      "    precision 0.26\n",
      "    recall 1.00\n",
      "\n",
      "At threshold 0.05:\n",
      "\n",
      "True negatives: 98.00\n",
      "False positives: 24086.00\n",
      "False negatives: 10.00\n",
      "True positives: 8346.00\n",
      "\n",
      "    accuracy 0.26\n",
      "    precision 0.26\n",
      "    recall 1.00\n",
      "\n",
      "At threshold 0.1:\n",
      "\n",
      "True negatives: 123.00\n",
      "False positives: 24061.00\n",
      "False negatives: 11.00\n",
      "True positives: 8345.00\n",
      "\n",
      "    accuracy 0.26\n",
      "    precision 0.26\n",
      "    recall 1.00\n",
      "\n",
      "At threshold 0.2:\n",
      "\n",
      "True negatives: 3191.00\n",
      "False positives: 20993.00\n",
      "False negatives: 374.00\n",
      "True positives: 7982.00\n",
      "\n",
      "    accuracy 0.34\n",
      "    precision 0.28\n",
      "    recall 0.96\n",
      "\n",
      "At threshold 0.3:\n",
      "\n",
      "True negatives: 12777.00\n",
      "False positives: 11407.00\n",
      "False negatives: 2723.00\n",
      "True positives: 5633.00\n",
      "\n",
      "    accuracy 0.57\n",
      "    precision 0.33\n",
      "    recall 0.67\n",
      "\n",
      "At threshold 0.5:\n",
      "\n",
      "True negatives: 23414.00\n",
      "False positives: 770.00\n",
      "False negatives: 7734.00\n",
      "True positives: 622.00\n",
      "\n",
      "    accuracy 0.74\n",
      "    precision 0.45\n",
      "    recall 0.07\n",
      "ROC AUC Score 0.64\n"
     ]
    },
    {
     "data": {
      "text/plain": [
       "<Figure size 432x288 with 0 Axes>"
      ]
     },
     "metadata": {},
     "output_type": "display_data"
    },
    {
     "data": {
      "image/png": "[encoded data removed]",
      "text/plain": [
       "<Figure size 432x288 with 2 Axes>"
      ]
     },
     "metadata": {
      "needs_background": "light"
     },
     "output_type": "display_data"
    },
    {
     "name": "stdout",
     "output_type": "stream",
     "text": [
      "----------\n",
      "\n",
      "SVM\n",
      "\n",
      "At threshold 0.01:\n",
      "\n",
      "True negatives: 24184.00\n",
      "False positives: 0.00\n",
      "False negatives: 8356.00\n",
      "True positives: 0.00\n",
      "\n",
      "    accuracy 0.74\n"
     ]
    },
    {
     "name": "stderr",
     "output_type": "stream",
     "text": [
      "C:\\Users\\Krista CHAN!\\Documents\\GitHub\\mlforpublicpolicy\\Homework 2\\preprocessing_hw3.py:162: RuntimeWarning: invalid value encountered in double_scalars\n",
      "  return 1.0 * true_positives / (false_positive + true_positives)\n"
     ]
    },
    {
     "name": "stdout",
     "output_type": "stream",
     "text": [
      "    precision nan\n",
      "    recall 0.00\n",
      "\n",
      "At threshold 0.02:\n",
      "\n",
      "True negatives: 24184.00\n",
      "False positives: 0.00\n",
      "False negatives: 8356.00\n",
      "True positives: 0.00\n",
      "\n",
      "    accuracy 0.74\n",
      "    precision nan\n",
      "    recall 0.00\n",
      "\n",
      "At threshold 0.05:\n",
      "\n",
      "True negatives: 24184.00\n",
      "False positives: 0.00\n",
      "False negatives: 8356.00\n",
      "True positives: 0.00\n",
      "\n",
      "    accuracy 0.74\n",
      "    precision nan\n",
      "    recall 0.00\n",
      "\n",
      "At threshold 0.1:\n",
      "\n",
      "True negatives: 24184.00\n",
      "False positives: 0.00\n",
      "False negatives: 8356.00\n",
      "True positives: 0.00\n",
      "\n",
      "    accuracy 0.74\n",
      "    precision nan\n",
      "    recall 0.00\n",
      "\n",
      "At threshold 0.2:\n",
      "\n",
      "True negatives: 24184.00\n",
      "False positives: 0.00\n",
      "False negatives: 8356.00\n",
      "True positives: 0.00\n",
      "\n",
      "    accuracy 0.74\n",
      "    precision nan\n",
      "    recall 0.00\n",
      "\n",
      "At threshold 0.3:\n",
      "\n",
      "True negatives: 24184.00\n",
      "False positives: 0.00\n",
      "False negatives: 8356.00\n",
      "True positives: 0.00\n",
      "\n",
      "    accuracy 0.74\n",
      "    precision nan\n",
      "    recall 0.00\n",
      "\n",
      "At threshold 0.5:\n",
      "\n",
      "True negatives: 24184.00\n",
      "False positives: 0.00\n",
      "False negatives: 8356.00\n",
      "True positives: 0.00\n",
      "\n",
      "    accuracy 0.74\n",
      "    precision nan\n",
      "    recall 0.00\n",
      "ROC AUC Score 0.58\n"
     ]
    },
    {
     "data": {
      "text/plain": [
       "<Figure size 432x288 with 0 Axes>"
      ]
     },
     "metadata": {},
     "output_type": "display_data"
    },
    {
     "data": {
      "image/png": "[encoded data removed]",
      "text/plain": [
       "<Figure size 432x288 with 2 Axes>"
      ]
     },
     "metadata": {
      "needs_background": "light"
     },
     "output_type": "display_data"
    },
    {
     "name": "stdout",
     "output_type": "stream",
     "text": [
      "----------\n",
      "\n",
      "Decision Tree\n",
      "\n",
      "At threshold 0.01:\n",
      "\n",
      "True negatives: 16599.00\n",
      "False positives: 7585.00\n",
      "False negatives: 4970.00\n",
      "True positives: 3386.00\n",
      "\n",
      "    accuracy 0.61\n",
      "    precision 0.31\n",
      "    recall 0.41\n",
      "\n",
      "At threshold 0.02:\n",
      "\n",
      "True negatives: 16599.00\n",
      "False positives: 7585.00\n",
      "False negatives: 4970.00\n",
      "True positives: 3386.00\n",
      "\n",
      "    accuracy 0.61\n",
      "    precision 0.31\n",
      "    recall 0.41\n",
      "\n",
      "At threshold 0.05:\n",
      "\n",
      "True negatives: 16599.00\n",
      "False positives: 7585.00\n",
      "False negatives: 4970.00\n",
      "True positives: 3386.00\n",
      "\n",
      "    accuracy 0.61\n",
      "    precision 0.31\n",
      "    recall 0.41\n",
      "\n",
      "At threshold 0.1:\n",
      "\n",
      "True negatives: 16599.00\n",
      "False positives: 7585.00\n",
      "False negatives: 4970.00\n",
      "True positives: 3386.00\n",
      "\n",
      "    accuracy 0.61\n",
      "    precision 0.31\n",
      "    recall 0.41\n",
      "\n",
      "At threshold 0.2:\n",
      "\n",
      "True negatives: 16599.00\n",
      "False positives: 7585.00\n",
      "False negatives: 4970.00\n",
      "True positives: 3386.00\n",
      "\n",
      "    accuracy 0.61\n",
      "    precision 0.31\n",
      "    recall 0.41\n",
      "\n",
      "At threshold 0.3:\n",
      "\n",
      "True negatives: 16599.00\n",
      "False positives: 7585.00\n",
      "False negatives: 4970.00\n",
      "True positives: 3386.00\n",
      "\n",
      "    accuracy 0.61\n",
      "    precision 0.31\n",
      "    recall 0.41\n",
      "\n",
      "At threshold 0.5:\n",
      "\n",
      "True negatives: 16600.00\n",
      "False positives: 7584.00\n",
      "False negatives: 4970.00\n",
      "True positives: 3386.00\n",
      "\n",
      "    accuracy 0.61\n",
      "    precision 0.31\n",
      "    recall 0.41\n",
      "ROC AUC Score 0.55\n"
     ]
    },
    {
     "data": {
      "text/plain": [
       "<Figure size 432x288 with 0 Axes>"
      ]
     },
     "metadata": {},
     "output_type": "display_data"
    },
    {
     "data": {
      "image/png": "[encoded data removed]",
      "text/plain": [
       "<Figure size 432x288 with 2 Axes>"
      ]
     },
     "metadata": {
      "needs_background": "light"
     },
     "output_type": "display_data"
    },
    {
     "name": "stdout",
     "output_type": "stream",
     "text": [
      "----------\n",
      "\n",
      "KNN\n",
      "\n",
      "At threshold 0.01:\n",
      "\n",
      "True negatives: 8759.00\n",
      "False positives: 15425.00\n",
      "False negatives: 2289.00\n",
      "True positives: 6067.00\n",
      "\n",
      "    accuracy 0.46\n",
      "    precision 0.28\n",
      "    recall 0.73\n",
      "\n",
      "At threshold 0.02:\n",
      "\n",
      "True negatives: 8759.00\n",
      "False positives: 15425.00\n",
      "False negatives: 2289.00\n",
      "True positives: 6067.00\n",
      "\n",
      "    accuracy 0.46\n",
      "    precision 0.28\n",
      "    recall 0.73\n",
      "\n",
      "At threshold 0.05:\n",
      "\n",
      "True negatives: 8759.00\n",
      "False positives: 15425.00\n",
      "False negatives: 2289.00\n",
      "True positives: 6067.00\n",
      "\n",
      "    accuracy 0.46\n",
      "    precision 0.28\n",
      "    recall 0.73\n",
      "\n",
      "At threshold 0.1:\n",
      "\n",
      "True negatives: 8759.00\n",
      "False positives: 15425.00\n",
      "False negatives: 2289.00\n",
      "True positives: 6067.00\n",
      "\n",
      "    accuracy 0.46\n",
      "    precision 0.28\n",
      "    recall 0.73\n",
      "\n",
      "At threshold 0.2:\n",
      "\n",
      "True negatives: 8759.00\n",
      "False positives: 15425.00\n",
      "False negatives: 2289.00\n",
      "True positives: 6067.00\n",
      "\n",
      "    accuracy 0.46\n",
      "    precision 0.28\n",
      "    recall 0.73\n",
      "\n",
      "At threshold 0.3:\n",
      "\n",
      "True negatives: 8759.00\n",
      "False positives: 15425.00\n",
      "False negatives: 2289.00\n",
      "True positives: 6067.00\n",
      "\n",
      "    accuracy 0.46\n",
      "    precision 0.28\n",
      "    recall 0.73\n",
      "\n",
      "At threshold 0.5:\n",
      "\n",
      "True negatives: 18402.00\n",
      "False positives: 5782.00\n",
      "False negatives: 5807.00\n",
      "True positives: 2549.00\n",
      "\n",
      "    accuracy 0.64\n",
      "    precision 0.31\n",
      "    recall 0.31\n",
      "ROC AUC Score 0.56\n"
     ]
    },
    {
     "data": {
      "text/plain": [
       "<Figure size 432x288 with 0 Axes>"
      ]
     },
     "metadata": {},
     "output_type": "display_data"
    },
    {
     "data": {
      "image/png": "[encoded data removed]",
      "text/plain": [
       "<Figure size 432x288 with 2 Axes>"
      ]
     },
     "metadata": {
      "needs_background": "light"
     },
     "output_type": "display_data"
    },
    {
     "name": "stdout",
     "output_type": "stream",
     "text": [
      "----------\n",
      "\n",
      "BAG\n",
      "\n",
      "At threshold 0.01:\n",
      "\n",
      "True negatives: 0.00\n",
      "False positives: 24184.00\n",
      "False negatives: 0.00\n",
      "True positives: 8356.00\n",
      "\n",
      "    accuracy 0.26\n",
      "    precision 0.26\n",
      "    recall 1.00\n",
      "\n",
      "At threshold 0.02:\n",
      "\n",
      "True negatives: 0.00\n",
      "False positives: 24184.00\n",
      "False negatives: 0.00\n",
      "True positives: 8356.00\n",
      "\n",
      "    accuracy 0.26\n",
      "    precision 0.26\n",
      "    recall 1.00\n",
      "\n",
      "At threshold 0.05:\n",
      "\n",
      "True negatives: 0.00\n",
      "False positives: 24184.00\n",
      "False negatives: 0.00\n",
      "True positives: 8356.00\n",
      "\n",
      "    accuracy 0.26\n",
      "    precision 0.26\n",
      "    recall 1.00\n",
      "\n",
      "At threshold 0.1:\n",
      "\n",
      "True negatives: 0.00\n",
      "False positives: 24184.00\n",
      "False negatives: 0.00\n",
      "True positives: 8356.00\n",
      "\n",
      "    accuracy 0.26\n",
      "    precision 0.26\n",
      "    recall 1.00\n",
      "\n",
      "At threshold 0.2:\n",
      "\n",
      "True negatives: 6964.00\n",
      "False positives: 17220.00\n",
      "False negatives: 883.00\n",
      "True positives: 7473.00\n",
      "\n",
      "    accuracy 0.44\n",
      "    precision 0.30\n",
      "    recall 0.89\n",
      "\n",
      "At threshold 0.3:\n",
      "\n",
      "True negatives: 10036.00\n",
      "False positives: 14148.00\n",
      "False negatives: 1719.00\n",
      "True positives: 6637.00\n",
      "\n",
      "    accuracy 0.51\n",
      "    precision 0.32\n",
      "    recall 0.79\n",
      "\n",
      "At threshold 0.5:\n",
      "\n",
      "True negatives: 24184.00\n",
      "False positives: 0.00\n",
      "False negatives: 8356.00\n",
      "True positives: 0.00\n",
      "\n",
      "    accuracy 0.74\n",
      "    precision nan\n",
      "    recall 0.00\n",
      "ROC AUC Score 0.62\n"
     ]
    },
    {
     "name": "stderr",
     "output_type": "stream",
     "text": [
      "C:\\Users\\Krista CHAN!\\Documents\\GitHub\\mlforpublicpolicy\\Homework 2\\preprocessing_hw3.py:162: RuntimeWarning: invalid value encountered in double_scalars\n",
      "  return 1.0 * true_positives / (false_positive + true_positives)\n"
     ]
    },
    {
     "data": {
      "text/plain": [
       "<Figure size 432x288 with 0 Axes>"
      ]
     },
     "metadata": {},
     "output_type": "display_data"
    },
    {
     "data": {
      "image/png": "[encoded data removed]",
      "text/plain": [
       "<Figure size 432x288 with 2 Axes>"
      ]
     },
     "metadata": {
      "needs_background": "light"
     },
     "output_type": "display_data"
    },
    {
     "name": "stdout",
     "output_type": "stream",
     "text": [
      "----------\n",
      "\n",
      "Training and test set 2\n"
     ]
    },
    {
     "name": "stderr",
     "output_type": "stream",
     "text": [
      "C:\\ProgramData\\Anaconda3\\lib\\site-packages\\sklearn\\linear_model\\logistic.py:433: FutureWarning: Default solver will be changed to 'lbfgs' in 0.22. Specify a solver to silence this warning.\n",
      "  FutureWarning)\n",
      "C:\\ProgramData\\Anaconda3\\lib\\site-packages\\sklearn\\svm\\base.py:931: ConvergenceWarning: Liblinear failed to converge, increase the number of iterations.\n",
      "  \"the number of iterations.\", ConvergenceWarning)\n"
     ]
    },
    {
     "name": "stdout",
     "output_type": "stream",
     "text": [
      "Random Forest\n",
      "\n",
      "At threshold 0.01:\n",
      "\n",
      "True negatives: 3021.00\n",
      "False positives: 11875.00\n",
      "False negatives: 737.00\n",
      "True positives: 6141.00\n",
      "\n",
      "    accuracy 0.42\n",
      "    precision 0.34\n",
      "    recall 0.89\n",
      "\n",
      "At threshold 0.02:\n",
      "\n",
      "True negatives: 3021.00\n",
      "False positives: 11875.00\n",
      "False negatives: 737.00\n",
      "True positives: 6141.00\n",
      "\n",
      "    accuracy 0.42\n",
      "    precision 0.34\n",
      "    recall 0.89\n",
      "\n",
      "At threshold 0.05:\n",
      "\n",
      "True negatives: 3024.00\n",
      "False positives: 11872.00\n",
      "False negatives: 739.00\n",
      "True positives: 6139.00\n",
      "\n",
      "    accuracy 0.42\n",
      "    precision 0.34\n",
      "    recall 0.89\n",
      "\n",
      "At threshold 0.1:\n",
      "\n",
      "True negatives: 3039.00\n",
      "False positives: 11857.00\n",
      "False negatives: 742.00\n",
      "True positives: 6136.00\n",
      "\n",
      "    accuracy 0.42\n",
      "    precision 0.34\n",
      "    recall 0.89\n",
      "\n",
      "At threshold 0.2:\n",
      "\n",
      "True negatives: 5770.00\n",
      "False positives: 9126.00\n",
      "False negatives: 1630.00\n",
      "True positives: 5248.00\n",
      "\n",
      "    accuracy 0.51\n",
      "    precision 0.37\n",
      "    recall 0.76\n",
      "\n",
      "At threshold 0.3:\n",
      "\n",
      "True negatives: 8176.00\n",
      "False positives: 6720.00\n",
      "False negatives: 2644.00\n",
      "True positives: 4234.00\n",
      "\n",
      "    accuracy 0.57\n",
      "    precision 0.39\n",
      "    recall 0.62\n",
      "\n",
      "At threshold 0.5:\n",
      "\n",
      "True negatives: 11753.00\n",
      "False positives: 3143.00\n",
      "False negatives: 4586.00\n",
      "True positives: 2292.00\n",
      "\n",
      "    accuracy 0.65\n",
      "    precision 0.42\n",
      "    recall 0.33\n",
      "ROC AUC Score 0.61\n"
     ]
    },
    {
     "data": {
      "text/plain": [
       "<Figure size 432x288 with 0 Axes>"
      ]
     },
     "metadata": {},
     "output_type": "display_data"
    },
    {
     "data": {
      "image/png": "[encoded data removed]",
      "text/plain": [
       "<Figure size 432x288 with 2 Axes>"
      ]
     },
     "metadata": {
      "needs_background": "light"
     },
     "output_type": "display_data"
    },
    {
     "name": "stdout",
     "output_type": "stream",
     "text": [
      "----------\n",
      "\n",
      "Ada Boost\n",
      "\n",
      "At threshold 0.01:\n",
      "\n",
      "True negatives: 0.00\n",
      "False positives: 14896.00\n",
      "False negatives: 0.00\n",
      "True positives: 6878.00\n",
      "\n",
      "    accuracy 0.32\n",
      "    precision 0.32\n",
      "    recall 1.00\n",
      "\n",
      "At threshold 0.02:\n",
      "\n",
      "True negatives: 0.00\n",
      "False positives: 14896.00\n",
      "False negatives: 0.00\n",
      "True positives: 6878.00\n",
      "\n",
      "    accuracy 0.32\n",
      "    precision 0.32\n",
      "    recall 1.00\n",
      "\n",
      "At threshold 0.05:\n",
      "\n",
      "True negatives: 0.00\n",
      "False positives: 14896.00\n",
      "False negatives: 0.00\n",
      "True positives: 6878.00\n",
      "\n",
      "    accuracy 0.32\n",
      "    precision 0.32\n",
      "    recall 1.00\n",
      "\n",
      "At threshold 0.1:\n",
      "\n",
      "True negatives: 0.00\n",
      "False positives: 14896.00\n",
      "False negatives: 0.00\n",
      "True positives: 6878.00\n",
      "\n",
      "    accuracy 0.32\n",
      "    precision 0.32\n",
      "    recall 1.00\n",
      "\n",
      "At threshold 0.2:\n",
      "\n",
      "True negatives: 0.00\n",
      "False positives: 14896.00\n",
      "False negatives: 0.00\n",
      "True positives: 6878.00\n",
      "\n",
      "    accuracy 0.32\n",
      "    precision 0.32\n",
      "    recall 1.00\n",
      "\n",
      "At threshold 0.3:\n",
      "\n",
      "True negatives: 0.00\n",
      "False positives: 14896.00\n",
      "False negatives: 0.00\n",
      "True positives: 6878.00\n",
      "\n",
      "    accuracy 0.32\n",
      "    precision 0.32\n",
      "    recall 1.00\n",
      "\n",
      "At threshold 0.5:\n",
      "\n",
      "True negatives: 14485.00\n",
      "False positives: 411.00\n",
      "False negatives: 6344.00\n",
      "True positives: 534.00\n",
      "\n",
      "    accuracy 0.69\n",
      "    precision 0.57\n",
      "    recall 0.08\n",
      "ROC AUC Score 0.68\n"
     ]
    },
    {
     "data": {
      "text/plain": [
       "<Figure size 432x288 with 0 Axes>"
      ]
     },
     "metadata": {},
     "output_type": "display_data"
    },
    {
     "data": {
      "image/png": "[encoded data removed]",
      "text/plain": [
       "<Figure size 432x288 with 2 Axes>"
      ]
     },
     "metadata": {
      "needs_background": "light"
     },
     "output_type": "display_data"
    },
    {
     "name": "stdout",
     "output_type": "stream",
     "text": [
      "----------\n",
      "\n",
      "Logistic Regression\n",
      "\n",
      "At threshold 0.01:\n",
      "\n",
      "True negatives: 10.00\n",
      "False positives: 14886.00\n",
      "False negatives: 1.00\n",
      "True positives: 6877.00\n",
      "\n",
      "    accuracy 0.32\n",
      "    precision 0.32\n",
      "    recall 1.00\n",
      "\n",
      "At threshold 0.02:\n",
      "\n",
      "True negatives: 70.00\n",
      "False positives: 14826.00\n",
      "False negatives: 7.00\n",
      "True positives: 6871.00\n",
      "\n",
      "    accuracy 0.32\n",
      "    precision 0.32\n",
      "    recall 1.00\n",
      "\n",
      "At threshold 0.05:\n",
      "\n",
      "True negatives: 84.00\n",
      "False positives: 14812.00\n",
      "False negatives: 10.00\n",
      "True positives: 6868.00\n",
      "\n",
      "    accuracy 0.32\n",
      "    precision 0.32\n",
      "    recall 1.00\n",
      "\n",
      "At threshold 0.1:\n",
      "\n",
      "True negatives: 92.00\n",
      "False positives: 14804.00\n",
      "False negatives: 15.00\n",
      "True positives: 6863.00\n",
      "\n",
      "    accuracy 0.32\n",
      "    precision 0.32\n",
      "    recall 1.00\n",
      "\n",
      "At threshold 0.2:\n",
      "\n",
      "True negatives: 2054.00\n",
      "False positives: 12842.00\n",
      "False negatives: 345.00\n",
      "True positives: 6533.00\n",
      "\n",
      "    accuracy 0.39\n",
      "    precision 0.34\n",
      "    recall 0.95\n",
      "\n",
      "At threshold 0.3:\n",
      "\n",
      "True negatives: 9621.00\n",
      "False positives: 5275.00\n",
      "False negatives: 3056.00\n",
      "True positives: 3822.00\n",
      "\n",
      "    accuracy 0.62\n",
      "    precision 0.42\n",
      "    recall 0.56\n",
      "\n",
      "At threshold 0.5:\n",
      "\n",
      "True negatives: 14746.00\n",
      "False positives: 150.00\n",
      "False negatives: 6678.00\n",
      "True positives: 200.00\n",
      "\n",
      "    accuracy 0.69\n",
      "    precision 0.57\n",
      "    recall 0.03\n",
      "ROC AUC Score 0.64\n"
     ]
    },
    {
     "data": {
      "text/plain": [
       "<Figure size 432x288 with 0 Axes>"
      ]
     },
     "metadata": {},
     "output_type": "display_data"
    },
    {
     "data": {
      "image/png": "[encoded data removed]",
      "text/plain": [
       "<Figure size 432x288 with 2 Axes>"
      ]
     },
     "metadata": {
      "needs_background": "light"
     },
     "output_type": "display_data"
    },
    {
     "name": "stdout",
     "output_type": "stream",
     "text": [
      "----------\n",
      "\n",
      "SVM\n",
      "\n",
      "At threshold 0.01:\n",
      "\n",
      "True negatives: 14896.00\n",
      "False positives: 0.00\n",
      "False negatives: 6878.00\n",
      "True positives: 0.00\n",
      "\n",
      "    accuracy 0.68\n",
      "    precision nan\n"
     ]
    },
    {
     "name": "stderr",
     "output_type": "stream",
     "text": [
      "C:\\Users\\Krista CHAN!\\Documents\\GitHub\\mlforpublicpolicy\\Homework 2\\preprocessing_hw3.py:162: RuntimeWarning: invalid value encountered in double_scalars\n",
      "  return 1.0 * true_positives / (false_positive + true_positives)\n"
     ]
    },
    {
     "name": "stdout",
     "output_type": "stream",
     "text": [
      "    recall 0.00\n",
      "\n",
      "At threshold 0.02:\n",
      "\n",
      "True negatives: 14896.00\n",
      "False positives: 0.00\n",
      "False negatives: 6878.00\n",
      "True positives: 0.00\n",
      "\n",
      "    accuracy 0.68\n",
      "    precision nan\n",
      "    recall 0.00\n",
      "\n",
      "At threshold 0.05:\n",
      "\n",
      "True negatives: 14896.00\n",
      "False positives: 0.00\n",
      "False negatives: 6878.00\n",
      "True positives: 0.00\n",
      "\n",
      "    accuracy 0.68\n",
      "    precision nan\n",
      "    recall 0.00\n",
      "\n",
      "At threshold 0.1:\n",
      "\n",
      "True negatives: 14896.00\n",
      "False positives: 0.00\n",
      "False negatives: 6878.00\n",
      "True positives: 0.00\n",
      "\n",
      "    accuracy 0.68\n",
      "    precision nan\n",
      "    recall 0.00\n",
      "\n",
      "At threshold 0.2:\n",
      "\n",
      "True negatives: 14896.00\n",
      "False positives: 0.00\n",
      "False negatives: 6878.00\n",
      "True positives: 0.00\n",
      "\n",
      "    accuracy 0.68\n",
      "    precision nan\n",
      "    recall 0.00\n",
      "\n",
      "At threshold 0.3:\n",
      "\n",
      "True negatives: 14896.00\n",
      "False positives: 0.00\n",
      "False negatives: 6878.00\n",
      "True positives: 0.00\n",
      "\n",
      "    accuracy 0.68\n",
      "    precision nan\n",
      "    recall 0.00\n",
      "\n",
      "At threshold 0.5:\n",
      "\n",
      "True negatives: 14896.00\n",
      "False positives: 0.00\n",
      "False negatives: 6878.00\n",
      "True positives: 0.00\n",
      "\n",
      "    accuracy 0.68\n",
      "    precision nan\n",
      "    recall 0.00\n",
      "ROC AUC Score 0.55\n"
     ]
    },
    {
     "data": {
      "text/plain": [
       "<Figure size 432x288 with 0 Axes>"
      ]
     },
     "metadata": {},
     "output_type": "display_data"
    },
    {
     "data": {
      "image/png": "[encoded data removed]",
      "text/plain": [
       "<Figure size 432x288 with 2 Axes>"
      ]
     },
     "metadata": {
      "needs_background": "light"
     },
     "output_type": "display_data"
    },
    {
     "name": "stdout",
     "output_type": "stream",
     "text": [
      "----------\n",
      "\n",
      "Decision Tree\n",
      "\n",
      "At threshold 0.01:\n",
      "\n",
      "True negatives: 10781.00\n",
      "False positives: 4115.00\n",
      "False negatives: 4416.00\n",
      "True positives: 2462.00\n",
      "\n",
      "    accuracy 0.61\n",
      "    precision 0.37\n",
      "    recall 0.36\n",
      "\n",
      "At threshold 0.02:\n",
      "\n",
      "True negatives: 10781.00\n",
      "False positives: 4115.00\n",
      "False negatives: 4416.00\n",
      "True positives: 2462.00\n",
      "\n",
      "    accuracy 0.61\n",
      "    precision 0.37\n",
      "    recall 0.36\n",
      "\n",
      "At threshold 0.05:\n",
      "\n",
      "True negatives: 10781.00\n",
      "False positives: 4115.00\n",
      "False negatives: 4416.00\n",
      "True positives: 2462.00\n",
      "\n",
      "    accuracy 0.61\n",
      "    precision 0.37\n",
      "    recall 0.36\n",
      "\n",
      "At threshold 0.1:\n",
      "\n",
      "True negatives: 10781.00\n",
      "False positives: 4115.00\n",
      "False negatives: 4416.00\n",
      "True positives: 2462.00\n",
      "\n",
      "    accuracy 0.61\n",
      "    precision 0.37\n",
      "    recall 0.36\n",
      "\n",
      "At threshold 0.2:\n",
      "\n",
      "True negatives: 10781.00\n",
      "False positives: 4115.00\n",
      "False negatives: 4416.00\n",
      "True positives: 2462.00\n",
      "\n",
      "    accuracy 0.61\n",
      "    precision 0.37\n",
      "    recall 0.36\n",
      "\n",
      "At threshold 0.3:\n",
      "\n",
      "True negatives: 10781.00\n",
      "False positives: 4115.00\n",
      "False negatives: 4416.00\n",
      "True positives: 2462.00\n",
      "\n",
      "    accuracy 0.61\n",
      "    precision 0.37\n",
      "    recall 0.36\n",
      "\n",
      "At threshold 0.5:\n",
      "\n",
      "True negatives: 10781.00\n",
      "False positives: 4115.00\n",
      "False negatives: 4416.00\n",
      "True positives: 2462.00\n",
      "\n",
      "    accuracy 0.61\n",
      "    precision 0.37\n",
      "    recall 0.36\n",
      "ROC AUC Score 0.54\n"
     ]
    },
    {
     "data": {
      "text/plain": [
       "<Figure size 432x288 with 0 Axes>"
      ]
     },
     "metadata": {},
     "output_type": "display_data"
    },
    {
     "data": {
      "image/png": "[encoded data removed]",
      "text/plain": [
       "<Figure size 432x288 with 2 Axes>"
      ]
     },
     "metadata": {
      "needs_background": "light"
     },
     "output_type": "display_data"
    },
    {
     "name": "stdout",
     "output_type": "stream",
     "text": [
      "----------\n",
      "\n",
      "KNN\n",
      "\n",
      "At threshold 0.01:\n",
      "\n",
      "True negatives: 6515.00\n",
      "False positives: 8381.00\n",
      "False negatives: 2194.00\n",
      "True positives: 4684.00\n",
      "\n",
      "    accuracy 0.51\n",
      "    precision 0.36\n",
      "    recall 0.68\n",
      "\n",
      "At threshold 0.02:\n",
      "\n",
      "True negatives: 6515.00\n",
      "False positives: 8381.00\n",
      "False negatives: 2194.00\n",
      "True positives: 4684.00\n",
      "\n",
      "    accuracy 0.51\n",
      "    precision 0.36\n",
      "    recall 0.68\n",
      "\n",
      "At threshold 0.05:\n",
      "\n",
      "True negatives: 6515.00\n",
      "False positives: 8381.00\n",
      "False negatives: 2194.00\n",
      "True positives: 4684.00\n",
      "\n",
      "    accuracy 0.51\n",
      "    precision 0.36\n",
      "    recall 0.68\n",
      "\n",
      "At threshold 0.1:\n",
      "\n",
      "True negatives: 6515.00\n",
      "False positives: 8381.00\n",
      "False negatives: 2194.00\n",
      "True positives: 4684.00\n",
      "\n",
      "    accuracy 0.51\n",
      "    precision 0.36\n",
      "    recall 0.68\n",
      "\n",
      "At threshold 0.2:\n",
      "\n",
      "True negatives: 6515.00\n",
      "False positives: 8381.00\n",
      "False negatives: 2194.00\n",
      "True positives: 4684.00\n",
      "\n",
      "    accuracy 0.51\n",
      "    precision 0.36\n",
      "    recall 0.68\n",
      "\n",
      "At threshold 0.3:\n",
      "\n",
      "True negatives: 6515.00\n",
      "False positives: 8381.00\n",
      "False negatives: 2194.00\n",
      "True positives: 4684.00\n",
      "\n",
      "    accuracy 0.51\n",
      "    precision 0.36\n",
      "    recall 0.68\n",
      "\n",
      "At threshold 0.5:\n",
      "\n",
      "True negatives: 12062.00\n",
      "False positives: 2834.00\n",
      "False negatives: 4940.00\n",
      "True positives: 1938.00\n",
      "\n",
      "    accuracy 0.64\n",
      "    precision 0.41\n",
      "    recall 0.28\n",
      "ROC AUC Score 0.57\n"
     ]
    },
    {
     "data": {
      "text/plain": [
       "<Figure size 432x288 with 0 Axes>"
      ]
     },
     "metadata": {},
     "output_type": "display_data"
    },
    {
     "data": {
      "image/png": "[encoded data removed]",
      "text/plain": [
       "<Figure size 432x288 with 2 Axes>"
      ]
     },
     "metadata": {
      "needs_background": "light"
     },
     "output_type": "display_data"
    },
    {
     "name": "stdout",
     "output_type": "stream",
     "text": [
      "----------\n",
      "\n",
      "BAG\n",
      "\n",
      "At threshold 0.01:\n",
      "\n",
      "True negatives: 0.00\n",
      "False positives: 14896.00\n",
      "False negatives: 0.00\n",
      "True positives: 6878.00\n",
      "\n",
      "    accuracy 0.32\n",
      "    precision 0.32\n",
      "    recall 1.00\n",
      "\n",
      "At threshold 0.02:\n",
      "\n",
      "True negatives: 0.00\n",
      "False positives: 14896.00\n",
      "False negatives: 0.00\n",
      "True positives: 6878.00\n",
      "\n",
      "    accuracy 0.32\n",
      "    precision 0.32\n",
      "    recall 1.00\n",
      "\n",
      "At threshold 0.05:\n",
      "\n",
      "True negatives: 0.00\n",
      "False positives: 14896.00\n",
      "False negatives: 0.00\n",
      "True positives: 6878.00\n",
      "\n",
      "    accuracy 0.32\n",
      "    precision 0.32\n",
      "    recall 1.00\n",
      "\n",
      "At threshold 0.1:\n",
      "\n",
      "True negatives: 0.00\n",
      "False positives: 14896.00\n",
      "False negatives: 0.00\n",
      "True positives: 6878.00\n",
      "\n",
      "    accuracy 0.32\n",
      "    precision 0.32\n",
      "    recall 1.00\n",
      "\n",
      "At threshold 0.2:\n",
      "\n",
      "True negatives: 6123.00\n",
      "False positives: 8773.00\n",
      "False negatives: 1324.00\n",
      "True positives: 5554.00\n",
      "\n",
      "    accuracy 0.54\n",
      "    precision 0.39\n",
      "    recall 0.81\n",
      "\n",
      "At threshold 0.3:\n",
      "\n",
      "True negatives: 6891.00\n",
      "False positives: 8005.00\n",
      "False negatives: 1650.00\n",
      "True positives: 5228.00\n",
      "\n",
      "    accuracy 0.56\n",
      "    precision 0.40\n",
      "    recall 0.76\n",
      "\n",
      "At threshold 0.5:\n",
      "\n",
      "True negatives: 14896.00\n",
      "False positives: 0.00\n",
      "False negatives: 6878.00\n",
      "True positives: 0.00\n",
      "\n",
      "    accuracy 0.68\n",
      "    precision nan\n",
      "    recall 0.00\n",
      "ROC AUC Score 0.62\n"
     ]
    },
    {
     "name": "stderr",
     "output_type": "stream",
     "text": [
      "C:\\Users\\Krista CHAN!\\Documents\\GitHub\\mlforpublicpolicy\\Homework 2\\preprocessing_hw3.py:162: RuntimeWarning: invalid value encountered in double_scalars\n",
      "  return 1.0 * true_positives / (false_positive + true_positives)\n"
     ]
    },
    {
     "data": {
      "text/plain": [
       "<Figure size 432x288 with 0 Axes>"
      ]
     },
     "metadata": {},
     "output_type": "display_data"
    },
    {
     "data": {
      "image/png": "[encoded data removed]",
      "text/plain": [
       "<Figure size 432x288 with 2 Axes>"
      ]
     },
     "metadata": {
      "needs_background": "light"
     },
     "output_type": "display_data"
    },
    {
     "name": "stdout",
     "output_type": "stream",
     "text": [
      "----------\n",
      "\n",
      "Training and test set 3\n"
     ]
    },
    {
     "name": "stderr",
     "output_type": "stream",
     "text": [
      "C:\\ProgramData\\Anaconda3\\lib\\site-packages\\sklearn\\linear_model\\logistic.py:433: FutureWarning: Default solver will be changed to 'lbfgs' in 0.22. Specify a solver to silence this warning.\n",
      "  FutureWarning)\n",
      "C:\\ProgramData\\Anaconda3\\lib\\site-packages\\sklearn\\svm\\base.py:931: ConvergenceWarning: Liblinear failed to converge, increase the number of iterations.\n",
      "  \"the number of iterations.\", ConvergenceWarning)\n"
     ]
    },
    {
     "name": "stdout",
     "output_type": "stream",
     "text": [
      "Random Forest\n",
      "\n",
      "At threshold 0.01:\n",
      "\n",
      "True negatives: 6007.00\n",
      "False positives: 25457.00\n",
      "False negatives: 1234.00\n",
      "True positives: 11247.00\n",
      "\n",
      "    accuracy 0.39\n",
      "    precision 0.31\n",
      "    recall 0.90\n",
      "\n",
      "At threshold 0.02:\n",
      "\n",
      "True negatives: 6007.00\n",
      "False positives: 25457.00\n",
      "False negatives: 1234.00\n",
      "True positives: 11247.00\n",
      "\n",
      "    accuracy 0.39\n",
      "    precision 0.31\n",
      "    recall 0.90\n",
      "\n",
      "At threshold 0.05:\n",
      "\n",
      "True negatives: 6020.00\n",
      "False positives: 25444.00\n",
      "False negatives: 1237.00\n",
      "True positives: 11244.00\n",
      "\n",
      "    accuracy 0.39\n",
      "    precision 0.31\n",
      "    recall 0.90\n",
      "\n",
      "At threshold 0.1:\n",
      "\n",
      "True negatives: 6048.00\n",
      "False positives: 25416.00\n",
      "False negatives: 1239.00\n",
      "True positives: 11242.00\n",
      "\n",
      "    accuracy 0.39\n",
      "    precision 0.31\n",
      "    recall 0.90\n",
      "\n",
      "At threshold 0.2:\n",
      "\n",
      "True negatives: 11509.00\n",
      "False positives: 19955.00\n",
      "False negatives: 2805.00\n",
      "True positives: 9676.00\n",
      "\n",
      "    accuracy 0.48\n",
      "    precision 0.33\n",
      "    recall 0.78\n",
      "\n",
      "At threshold 0.3:\n",
      "\n",
      "True negatives: 16348.00\n",
      "False positives: 15116.00\n",
      "False negatives: 4527.00\n",
      "True positives: 7954.00\n",
      "\n",
      "    accuracy 0.55\n",
      "    precision 0.34\n",
      "    recall 0.64\n",
      "\n",
      "At threshold 0.5:\n",
      "\n",
      "True negatives: 23693.00\n",
      "False positives: 7771.00\n",
      "False negatives: 7789.00\n",
      "True positives: 4692.00\n",
      "\n",
      "    accuracy 0.65\n",
      "    precision 0.38\n",
      "    recall 0.38\n",
      "ROC AUC Score 0.61\n"
     ]
    },
    {
     "data": {
      "text/plain": [
       "<Figure size 432x288 with 0 Axes>"
      ]
     },
     "metadata": {},
     "output_type": "display_data"
    },
    {
     "data": {
      "image/png": "[encoded data removed]",
      "text/plain": [
       "<Figure size 432x288 with 2 Axes>"
      ]
     },
     "metadata": {
      "needs_background": "light"
     },
     "output_type": "display_data"
    },
    {
     "name": "stdout",
     "output_type": "stream",
     "text": [
      "----------\n",
      "\n",
      "Ada Boost\n",
      "\n",
      "At threshold 0.01:\n",
      "\n",
      "True negatives: 0.00\n",
      "False positives: 31464.00\n",
      "False negatives: 0.00\n",
      "True positives: 12481.00\n",
      "\n",
      "    accuracy 0.28\n",
      "    precision 0.28\n",
      "    recall 1.00\n",
      "\n",
      "At threshold 0.02:\n",
      "\n",
      "True negatives: 0.00\n",
      "False positives: 31464.00\n",
      "False negatives: 0.00\n",
      "True positives: 12481.00\n",
      "\n",
      "    accuracy 0.28\n",
      "    precision 0.28\n",
      "    recall 1.00\n",
      "\n",
      "At threshold 0.05:\n",
      "\n",
      "True negatives: 0.00\n",
      "False positives: 31464.00\n",
      "False negatives: 0.00\n",
      "True positives: 12481.00\n",
      "\n",
      "    accuracy 0.28\n",
      "    precision 0.28\n",
      "    recall 1.00\n",
      "\n",
      "At threshold 0.1:\n",
      "\n",
      "True negatives: 0.00\n",
      "False positives: 31464.00\n",
      "False negatives: 0.00\n",
      "True positives: 12481.00\n",
      "\n",
      "    accuracy 0.28\n",
      "    precision 0.28\n",
      "    recall 1.00\n",
      "\n",
      "At threshold 0.2:\n",
      "\n",
      "True negatives: 0.00\n",
      "False positives: 31464.00\n",
      "False negatives: 0.00\n",
      "True positives: 12481.00\n",
      "\n",
      "    accuracy 0.28\n",
      "    precision 0.28\n",
      "    recall 1.00\n",
      "\n",
      "At threshold 0.3:\n",
      "\n",
      "True negatives: 0.00\n",
      "False positives: 31464.00\n",
      "False negatives: 0.00\n",
      "True positives: 12481.00\n",
      "\n",
      "    accuracy 0.28\n",
      "    precision 0.28\n",
      "    recall 1.00\n",
      "\n",
      "At threshold 0.5:\n",
      "\n",
      "True negatives: 29589.00\n",
      "False positives: 1875.00\n",
      "False negatives: 10800.00\n",
      "True positives: 1681.00\n",
      "\n",
      "    accuracy 0.71\n",
      "    precision 0.47\n",
      "    recall 0.13\n",
      "ROC AUC Score 0.68\n"
     ]
    },
    {
     "data": {
      "text/plain": [
       "<Figure size 432x288 with 0 Axes>"
      ]
     },
     "metadata": {},
     "output_type": "display_data"
    },
    {
     "data": {
      "image/png": "[encoded data removed]",
      "text/plain": [
       "<Figure size 432x288 with 2 Axes>"
      ]
     },
     "metadata": {
      "needs_background": "light"
     },
     "output_type": "display_data"
    },
    {
     "name": "stdout",
     "output_type": "stream",
     "text": [
      "----------\n",
      "\n",
      "Logistic Regression\n",
      "\n",
      "At threshold 0.01:\n",
      "\n",
      "True negatives: 6.00\n",
      "False positives: 31458.00\n",
      "False negatives: 0.00\n",
      "True positives: 12481.00\n",
      "\n",
      "    accuracy 0.28\n",
      "    precision 0.28\n",
      "    recall 1.00\n",
      "\n",
      "At threshold 0.02:\n",
      "\n",
      "True negatives: 62.00\n",
      "False positives: 31402.00\n",
      "False negatives: 0.00\n",
      "True positives: 12481.00\n",
      "\n",
      "    accuracy 0.29\n",
      "    precision 0.28\n",
      "    recall 1.00\n",
      "\n",
      "At threshold 0.05:\n",
      "\n",
      "True negatives: 89.00\n",
      "False positives: 31375.00\n",
      "False negatives: 7.00\n",
      "True positives: 12474.00\n",
      "\n",
      "    accuracy 0.29\n",
      "    precision 0.28\n",
      "    recall 1.00\n",
      "\n",
      "At threshold 0.1:\n",
      "\n",
      "True negatives: 102.00\n",
      "False positives: 31362.00\n",
      "False negatives: 9.00\n",
      "True positives: 12472.00\n",
      "\n",
      "    accuracy 0.29\n",
      "    precision 0.28\n",
      "    recall 1.00\n",
      "\n",
      "At threshold 0.2:\n",
      "\n",
      "True negatives: 5259.00\n",
      "False positives: 26205.00\n",
      "False negatives: 806.00\n",
      "True positives: 11675.00\n",
      "\n",
      "    accuracy 0.39\n",
      "    precision 0.31\n",
      "    recall 0.94\n",
      "\n",
      "At threshold 0.3:\n",
      "\n",
      "True negatives: 18911.00\n",
      "False positives: 12553.00\n",
      "False negatives: 4671.00\n",
      "True positives: 7810.00\n",
      "\n",
      "    accuracy 0.61\n",
      "    precision 0.38\n",
      "    recall 0.63\n",
      "\n",
      "At threshold 0.5:\n",
      "\n",
      "True negatives: 30374.00\n",
      "False positives: 1090.00\n",
      "False negatives: 11559.00\n",
      "True positives: 922.00\n",
      "\n",
      "    accuracy 0.71\n",
      "    precision 0.46\n",
      "    recall 0.07\n",
      "ROC AUC Score 0.65\n"
     ]
    },
    {
     "data": {
      "text/plain": [
       "<Figure size 432x288 with 0 Axes>"
      ]
     },
     "metadata": {},
     "output_type": "display_data"
    },
    {
     "data": {
      "image/png": "[encoded data removed]",
      "text/plain": [
       "<Figure size 432x288 with 2 Axes>"
      ]
     },
     "metadata": {
      "needs_background": "light"
     },
     "output_type": "display_data"
    },
    {
     "name": "stdout",
     "output_type": "stream",
     "text": [
      "----------\n",
      "\n",
      "SVM\n",
      "\n",
      "At threshold 0.01:\n",
      "\n",
      "True negatives: 31034.00\n",
      "False positives: 430.00\n",
      "False negatives: 12186.00\n",
      "True positives: 295.00\n",
      "\n",
      "    accuracy 0.71\n",
      "    precision 0.41\n",
      "    recall 0.02\n",
      "\n",
      "At threshold 0.02:\n",
      "\n",
      "True negatives: 31048.00\n",
      "False positives: 416.00\n",
      "False negatives: 12198.00\n",
      "True positives: 283.00\n",
      "\n",
      "    accuracy 0.71\n",
      "    precision 0.40\n",
      "    recall 0.02\n",
      "\n",
      "At threshold 0.05:\n",
      "\n",
      "True negatives: 31096.00\n",
      "False positives: 368.00\n",
      "False negatives: 12222.00\n",
      "True positives: 259.00\n",
      "\n",
      "    accuracy 0.71\n",
      "    precision 0.41\n",
      "    recall 0.02\n",
      "\n",
      "At threshold 0.1:\n",
      "\n",
      "True negatives: 31145.00\n",
      "False positives: 319.00\n",
      "False negatives: 12274.00\n",
      "True positives: 207.00\n",
      "\n",
      "    accuracy 0.71\n",
      "    precision 0.39\n",
      "    recall 0.02\n",
      "\n",
      "At threshold 0.2:\n",
      "\n",
      "True negatives: 31272.00\n",
      "False positives: 192.00\n",
      "False negatives: 12336.00\n",
      "True positives: 145.00\n",
      "\n",
      "    accuracy 0.71\n",
      "    precision 0.43\n",
      "    recall 0.01\n",
      "\n",
      "At threshold 0.3:\n",
      "\n",
      "True negatives: 31331.00\n",
      "False positives: 133.00\n",
      "False negatives: 12366.00\n",
      "True positives: 115.00\n",
      "\n",
      "    accuracy 0.72\n",
      "    precision 0.46\n",
      "    recall 0.01\n",
      "\n",
      "At threshold 0.5:\n",
      "\n",
      "True negatives: 31390.00\n",
      "False positives: 74.00\n",
      "False negatives: 12418.00\n",
      "True positives: 63.00\n",
      "\n",
      "    accuracy 0.72\n",
      "    precision 0.46\n",
      "    recall 0.01\n",
      "ROC AUC Score 0.62\n"
     ]
    },
    {
     "data": {
      "text/plain": [
       "<Figure size 432x288 with 0 Axes>"
      ]
     },
     "metadata": {},
     "output_type": "display_data"
    },
    {
     "data": {
      "image/png": "[encoded data removed]",
      "text/plain": [
       "<Figure size 432x288 with 2 Axes>"
      ]
     },
     "metadata": {
      "needs_background": "light"
     },
     "output_type": "display_data"
    },
    {
     "name": "stdout",
     "output_type": "stream",
     "text": [
      "----------\n",
      "\n",
      "Decision Tree\n",
      "\n",
      "At threshold 0.01:\n",
      "\n",
      "True negatives: 22190.00\n",
      "False positives: 9274.00\n",
      "False negatives: 7698.00\n",
      "True positives: 4783.00\n",
      "\n",
      "    accuracy 0.61\n",
      "    precision 0.34\n",
      "    recall 0.38\n",
      "\n",
      "At threshold 0.02:\n",
      "\n",
      "True negatives: 22190.00\n",
      "False positives: 9274.00\n",
      "False negatives: 7698.00\n",
      "True positives: 4783.00\n",
      "\n",
      "    accuracy 0.61\n",
      "    precision 0.34\n",
      "    recall 0.38\n",
      "\n",
      "At threshold 0.05:\n",
      "\n",
      "True negatives: 22190.00\n",
      "False positives: 9274.00\n",
      "False negatives: 7698.00\n",
      "True positives: 4783.00\n",
      "\n",
      "    accuracy 0.61\n",
      "    precision 0.34\n",
      "    recall 0.38\n",
      "\n",
      "At threshold 0.1:\n",
      "\n",
      "True negatives: 22190.00\n",
      "False positives: 9274.00\n",
      "False negatives: 7698.00\n",
      "True positives: 4783.00\n",
      "\n",
      "    accuracy 0.61\n",
      "    precision 0.34\n",
      "    recall 0.38\n",
      "\n",
      "At threshold 0.2:\n",
      "\n",
      "True negatives: 22190.00\n",
      "False positives: 9274.00\n",
      "False negatives: 7698.00\n",
      "True positives: 4783.00\n",
      "\n",
      "    accuracy 0.61\n",
      "    precision 0.34\n",
      "    recall 0.38\n",
      "\n",
      "At threshold 0.3:\n",
      "\n",
      "True negatives: 22190.00\n",
      "False positives: 9274.00\n",
      "False negatives: 7698.00\n",
      "True positives: 4783.00\n",
      "\n",
      "    accuracy 0.61\n",
      "    precision 0.34\n",
      "    recall 0.38\n",
      "\n",
      "At threshold 0.5:\n",
      "\n",
      "True negatives: 22196.00\n",
      "False positives: 9268.00\n",
      "False negatives: 7701.00\n",
      "True positives: 4780.00\n",
      "\n",
      "    accuracy 0.61\n",
      "    precision 0.34\n",
      "    recall 0.38\n",
      "ROC AUC Score 0.54\n"
     ]
    },
    {
     "data": {
      "text/plain": [
       "<Figure size 432x288 with 0 Axes>"
      ]
     },
     "metadata": {},
     "output_type": "display_data"
    },
    {
     "data": {
      "image/png": "[encoded data removed]",
      "text/plain": [
       "<Figure size 432x288 with 2 Axes>"
      ]
     },
     "metadata": {
      "needs_background": "light"
     },
     "output_type": "display_data"
    },
    {
     "name": "stdout",
     "output_type": "stream",
     "text": [
      "----------\n",
      "\n",
      "KNN\n",
      "\n",
      "At threshold 0.01:\n",
      "\n",
      "True negatives: 12290.00\n",
      "False positives: 19174.00\n",
      "False negatives: 3541.00\n",
      "True positives: 8940.00\n",
      "\n",
      "    accuracy 0.48\n",
      "    precision 0.32\n",
      "    recall 0.72\n",
      "\n",
      "At threshold 0.02:\n",
      "\n",
      "True negatives: 12290.00\n",
      "False positives: 19174.00\n",
      "False negatives: 3541.00\n",
      "True positives: 8940.00\n",
      "\n",
      "    accuracy 0.48\n",
      "    precision 0.32\n",
      "    recall 0.72\n",
      "\n",
      "At threshold 0.05:\n",
      "\n",
      "True negatives: 12290.00\n",
      "False positives: 19174.00\n",
      "False negatives: 3541.00\n",
      "True positives: 8940.00\n",
      "\n",
      "    accuracy 0.48\n",
      "    precision 0.32\n",
      "    recall 0.72\n",
      "\n",
      "At threshold 0.1:\n",
      "\n",
      "True negatives: 12290.00\n",
      "False positives: 19174.00\n",
      "False negatives: 3541.00\n",
      "True positives: 8940.00\n",
      "\n",
      "    accuracy 0.48\n",
      "    precision 0.32\n",
      "    recall 0.72\n",
      "\n",
      "At threshold 0.2:\n",
      "\n",
      "True negatives: 12290.00\n",
      "False positives: 19174.00\n",
      "False negatives: 3541.00\n",
      "True positives: 8940.00\n",
      "\n",
      "    accuracy 0.48\n",
      "    precision 0.32\n",
      "    recall 0.72\n",
      "\n",
      "At threshold 0.3:\n",
      "\n",
      "True negatives: 12290.00\n",
      "False positives: 19174.00\n",
      "False negatives: 3541.00\n",
      "True positives: 8940.00\n",
      "\n",
      "    accuracy 0.48\n",
      "    precision 0.32\n",
      "    recall 0.72\n",
      "\n",
      "At threshold 0.5:\n",
      "\n",
      "True negatives: 24477.00\n",
      "False positives: 6987.00\n",
      "False negatives: 8679.00\n",
      "True positives: 3802.00\n",
      "\n",
      "    accuracy 0.64\n",
      "    precision 0.35\n",
      "    recall 0.30\n",
      "ROC AUC Score 0.57\n"
     ]
    },
    {
     "data": {
      "text/plain": [
       "<Figure size 432x288 with 0 Axes>"
      ]
     },
     "metadata": {},
     "output_type": "display_data"
    },
    {
     "data": {
      "image/png": "[encoded data removed]",
      "text/plain": [
       "<Figure size 432x288 with 2 Axes>"
      ]
     },
     "metadata": {
      "needs_background": "light"
     },
     "output_type": "display_data"
    },
    {
     "name": "stdout",
     "output_type": "stream",
     "text": [
      "----------\n",
      "\n",
      "BAG\n",
      "\n",
      "At threshold 0.01:\n",
      "\n",
      "True negatives: 0.00\n",
      "False positives: 31464.00\n",
      "False negatives: 0.00\n",
      "True positives: 12481.00\n",
      "\n",
      "    accuracy 0.28\n",
      "    precision 0.28\n",
      "    recall 1.00\n",
      "\n",
      "At threshold 0.02:\n",
      "\n",
      "True negatives: 0.00\n",
      "False positives: 31464.00\n",
      "False negatives: 0.00\n",
      "True positives: 12481.00\n",
      "\n",
      "    accuracy 0.28\n",
      "    precision 0.28\n",
      "    recall 1.00\n",
      "\n",
      "At threshold 0.05:\n",
      "\n",
      "True negatives: 0.00\n",
      "False positives: 31464.00\n",
      "False negatives: 0.00\n",
      "True positives: 12481.00\n",
      "\n",
      "    accuracy 0.28\n",
      "    precision 0.28\n",
      "    recall 1.00\n",
      "\n",
      "At threshold 0.1:\n",
      "\n",
      "True negatives: 0.00\n",
      "False positives: 31464.00\n",
      "False negatives: 0.00\n",
      "True positives: 12481.00\n",
      "\n",
      "    accuracy 0.28\n",
      "    precision 0.28\n",
      "    recall 1.00\n",
      "\n",
      "At threshold 0.2:\n",
      "\n",
      "True negatives: 11595.00\n",
      "False positives: 19869.00\n",
      "False negatives: 1836.00\n",
      "True positives: 10645.00\n",
      "\n",
      "    accuracy 0.51\n",
      "    precision 0.35\n",
      "    recall 0.85\n",
      "\n",
      "At threshold 0.3:\n",
      "\n",
      "True negatives: 12209.00\n",
      "False positives: 19255.00\n",
      "False negatives: 2035.00\n",
      "True positives: 10446.00\n",
      "\n",
      "    accuracy 0.52\n",
      "    precision 0.35\n",
      "    recall 0.84\n",
      "\n",
      "At threshold 0.5:\n",
      "\n",
      "True negatives: 31464.00\n",
      "False positives: 0.00\n",
      "False negatives: 12481.00\n",
      "True positives: 0.00\n",
      "\n",
      "    accuracy 0.72\n",
      "    precision nan\n",
      "    recall 0.00\n",
      "ROC AUC Score 0.62\n"
     ]
    },
    {
     "name": "stderr",
     "output_type": "stream",
     "text": [
      "C:\\Users\\Krista CHAN!\\Documents\\GitHub\\mlforpublicpolicy\\Homework 2\\preprocessing_hw3.py:162: RuntimeWarning: invalid value encountered in double_scalars\n",
      "  return 1.0 * true_positives / (false_positive + true_positives)\n"
     ]
    },
    {
     "data": {
      "text/plain": [
       "<Figure size 432x288 with 0 Axes>"
      ]
     },
     "metadata": {},
     "output_type": "display_data"
    },
    {
     "data": {
      "image/png": "[encoded data removed]",
      "text/plain": [
       "<Figure size 432x288 with 2 Axes>"
      ]
     },
     "metadata": {
      "needs_background": "light"
     },
     "output_type": "display_data"
    },
    {
     "name": "stdout",
     "output_type": "stream",
     "text": [
      "----------\n",
      "\n"
     ]
    }
   ],
   "source": [
    "pp.eval_test_sets(train_test_sets, [.01, .02, .05, .1, .2, .3, .5])"
   ]
  },
  {
   "cell_type": "markdown",
   "metadata": {},
   "source": [
    "Above, I have returned evaluation metrics for various models using three different training and test sets. We can compare these models to help us inform interventions for elevating the projects which DonorsChoose.org can intervene on. For example, suppose DonorsChoose.org would like to boost the visibility of certain projects in order to increase their chances of being fully funded within 60 days by creating a featured page which highlights those projects. However, there is only enough space on the page to accommodate about 5% of all projects. These models can help us select those 5% of projects which are least likely to be funded within 60 days so DonorsChoose.org can feature them.\n",
    "\n",
    "If we are able to intervene on only 5% of projects, we would want to maximize the number of projects we select which are truly at risk of not being fully funded within 60 days. In order to use our models, we will need to select a threshold score which we deem to be high enough to \"predict\" a project to be positively at risk for not being fully funded within 60 days."
   ]
  },
  {
   "cell_type": "code",
   "execution_count": 11,
   "metadata": {},
   "outputs": [
    {
     "name": "stdout",
     "output_type": "stream",
     "text": [
      "(43945, 50)\n",
      "12481\n",
      "0.2840141085447719\n"
     ]
    }
   ],
   "source": [
    "print(train_test_sets[2][1].shape)\n",
    "print(train_test_sets[2][1].over_60.sum())\n",
    "print(train_test_sets[2][1].over_60.mean())"
   ]
  },
  {
   "cell_type": "markdown",
   "metadata": {},
   "source": [
    "In our final test set which spans the most recent dates posted (July 2013-Dec 2013), there were 43,945 projects, of which 12,481 or about 28.4% did not get fully funded within 60 days. If DonorsChoose.org were to intervene on projects in July 2013, they would want to select about 2197 (5%) projects to be featured on their page. Below are the score thresholds for each model which would account for 5% of projects in the final test set."
   ]
  },
  {
   "cell_type": "code",
   "execution_count": 10,
   "metadata": {},
   "outputs": [
    {
     "name": "stderr",
     "output_type": "stream",
     "text": [
      "C:\\ProgramData\\Anaconda3\\lib\\site-packages\\sklearn\\ensemble\\forest.py:246: FutureWarning: The default value of n_estimators will change from 10 in version 0.20 to 100 in 0.22.\n",
      "  \"10 in version 0.20 to 100 in 0.22.\", FutureWarning)\n",
      "C:\\ProgramData\\Anaconda3\\lib\\site-packages\\sklearn\\linear_model\\logistic.py:433: FutureWarning: Default solver will be changed to 'lbfgs' in 0.22. Specify a solver to silence this warning.\n",
      "  FutureWarning)\n",
      "C:\\ProgramData\\Anaconda3\\lib\\site-packages\\sklearn\\svm\\base.py:931: ConvergenceWarning: Liblinear failed to converge, increase the number of iterations.\n",
      "  \"the number of iterations.\", ConvergenceWarning)\n"
     ]
    },
    {
     "name": "stdout",
     "output_type": "stream",
     "text": [
      "43945\n",
      "43945\n",
      "43945\n",
      "43945\n",
      "43945\n",
      "43945\n",
      "43945\n",
      "{'Random Forest': 0.8, 'Ada Boost': 0.5005613827687063, 'Logistic Regression': 0.493236675014879, 'SVM': -0.33146643641308066, 'Decision Tree': 1.0, 'KNN': 0.6666666666666666, 'BAG': 0.3531705733448901}\n"
     ]
    }
   ],
   "source": [
    "fitted_clfs = pp.fit_clfs(train_test_sets[2])\n",
    "dt = fitted_clfs.get('Decision Tree')\n",
    "cutoffs = pp.threshold_cutoff(train_test_sets[2], fitted_clfs, 0.05)"
   ]
  },
  {
   "cell_type": "markdown",
   "metadata": {},
   "source": [
    "We can evaluate each model at their respective thresholds and compare performance."
   ]
  },
  {
   "cell_type": "code",
   "execution_count": 11,
   "metadata": {},
   "outputs": [
    {
     "name": "stdout",
     "output_type": "stream",
     "text": [
      "Random Forest\n",
      "\n",
      "At threshold 0.8:\n",
      "\n",
      "True negatives: 29698.00\n",
      "False positives: 1766.00\n",
      "False negatives: 11292.00\n",
      "True positives: 1189.00\n",
      "\n",
      "    accuracy 0.70\n",
      "    precision 0.40\n",
      "    recall 0.10\n",
      "ROC AUC Score 0.61\n"
     ]
    },
    {
     "data": {
      "text/plain": [
       "<Figure size 432x288 with 0 Axes>"
      ]
     },
     "metadata": {},
     "output_type": "display_data"
    },
    {
     "data": {
      "image/png": "[encoded data removed]",
      "text/plain": [
       "<Figure size 432x288 with 2 Axes>"
      ]
     },
     "metadata": {
      "needs_background": "light"
     },
     "output_type": "display_data"
    },
    {
     "name": "stdout",
     "output_type": "stream",
     "text": [
      "----------\n",
      "\n",
      "Ada Boost\n",
      "\n",
      "At threshold 0.5005613827687065:\n",
      "\n",
      "True negatives: 30330.00\n",
      "False positives: 1134.00\n",
      "False negatives: 11416.00\n",
      "True positives: 1065.00\n",
      "\n",
      "    accuracy 0.71\n",
      "    precision 0.48\n",
      "    recall 0.09\n",
      "ROC AUC Score 0.68\n"
     ]
    },
    {
     "data": {
      "text/plain": [
       "<Figure size 432x288 with 0 Axes>"
      ]
     },
     "metadata": {},
     "output_type": "display_data"
    },
    {
     "data": {
      "image/png": "[encoded data removed]",
      "text/plain": [
       "<Figure size 432x288 with 2 Axes>"
      ]
     },
     "metadata": {
      "needs_background": "light"
     },
     "output_type": "display_data"
    },
    {
     "name": "stdout",
     "output_type": "stream",
     "text": [
      "----------\n",
      "\n",
      "Logistic Regression\n",
      "\n",
      "At threshold 0.49331747819759925:\n",
      "\n",
      "True negatives: 30274.00\n",
      "False positives: 1190.00\n",
      "False negatives: 11473.00\n",
      "True positives: 1008.00\n",
      "\n",
      "    accuracy 0.71\n",
      "    precision 0.46\n",
      "    recall 0.08\n",
      "ROC AUC Score 0.65\n"
     ]
    },
    {
     "data": {
      "text/plain": [
       "<Figure size 432x288 with 0 Axes>"
      ]
     },
     "metadata": {},
     "output_type": "display_data"
    },
    {
     "data": {
      "image/png": "[encoded data removed]",
      "text/plain": [
       "<Figure size 432x288 with 2 Axes>"
      ]
     },
     "metadata": {
      "needs_background": "light"
     },
     "output_type": "display_data"
    },
    {
     "name": "stdout",
     "output_type": "stream",
     "text": [
      "----------\n",
      "\n",
      "SVM\n",
      "\n",
      "At threshold -0.33146643641308066:\n",
      "\n",
      "True negatives: 30128.00\n",
      "False positives: 1336.00\n",
      "False negatives: 11619.00\n",
      "True positives: 862.00\n",
      "\n",
      "    accuracy 0.71\n",
      "    precision 0.39\n",
      "    recall 0.07\n",
      "ROC AUC Score 0.62\n"
     ]
    },
    {
     "data": {
      "text/plain": [
       "<Figure size 432x288 with 0 Axes>"
      ]
     },
     "metadata": {},
     "output_type": "display_data"
    },
    {
     "data": {
      "image/png": "[encoded data removed]",
      "text/plain": [
       "<Figure size 432x288 with 2 Axes>"
      ]
     },
     "metadata": {
      "needs_background": "light"
     },
     "output_type": "display_data"
    },
    {
     "name": "stdout",
     "output_type": "stream",
     "text": [
      "----------\n",
      "\n",
      "Decision Tree\n",
      "\n",
      "At threshold 1.0:\n",
      "\n",
      "True negatives: 22236.00\n",
      "False positives: 9228.00\n",
      "False negatives: 7776.00\n",
      "True positives: 4705.00\n",
      "\n",
      "    accuracy 0.61\n",
      "    precision 0.34\n",
      "    recall 0.38\n",
      "ROC AUC Score 0.54\n"
     ]
    },
    {
     "data": {
      "text/plain": [
       "<Figure size 432x288 with 0 Axes>"
      ]
     },
     "metadata": {},
     "output_type": "display_data"
    },
    {
     "data": {
      "image/png": "[encoded data removed]",
      "text/plain": [
       "<Figure size 432x288 with 2 Axes>"
      ]
     },
     "metadata": {
      "needs_background": "light"
     },
     "output_type": "display_data"
    },
    {
     "name": "stdout",
     "output_type": "stream",
     "text": [
      "----------\n",
      "\n",
      "KNN\n",
      "\n",
      "At threshold 0.6666666666666666:\n",
      "\n",
      "True negatives: 24477.00\n",
      "False positives: 6987.00\n",
      "False negatives: 8679.00\n",
      "True positives: 3802.00\n",
      "\n",
      "    accuracy 0.64\n",
      "    precision 0.35\n",
      "    recall 0.30\n",
      "ROC AUC Score 0.57\n"
     ]
    },
    {
     "data": {
      "text/plain": [
       "<Figure size 432x288 with 0 Axes>"
      ]
     },
     "metadata": {},
     "output_type": "display_data"
    },
    {
     "data": {
      "image/png": "[encoded data removed]",
      "text/plain": [
       "<Figure size 432x288 with 2 Axes>"
      ]
     },
     "metadata": {
      "needs_background": "light"
     },
     "output_type": "display_data"
    },
    {
     "name": "stdout",
     "output_type": "stream",
     "text": [
      "----------\n",
      "\n",
      "BAG\n",
      "\n",
      "At threshold 0.35404671668867843:\n",
      "\n",
      "True negatives: 13097.00\n",
      "False positives: 18367.00\n",
      "False negatives: 2321.00\n",
      "True positives: 10160.00\n",
      "\n",
      "    accuracy 0.53\n",
      "    precision 0.36\n",
      "    recall 0.81\n",
      "ROC AUC Score 0.62\n"
     ]
    },
    {
     "data": {
      "text/plain": [
       "<Figure size 432x288 with 0 Axes>"
      ]
     },
     "metadata": {},
     "output_type": "display_data"
    },
    {
     "data": {
      "image/png": "[encoded data removed]",
      "text/plain": [
       "<Figure size 432x288 with 2 Axes>"
      ]
     },
     "metadata": {
      "needs_background": "light"
     },
     "output_type": "display_data"
    },
    {
     "name": "stdout",
     "output_type": "stream",
     "text": [
      "----------\n",
      "\n"
     ]
    }
   ],
   "source": [
    "for clf_name, cutoff in cutoffs.items():\n",
    "    fitted_clf = {clf_name: fitted_clfs.get(clf_name)}\n",
    "    pp.eval_metrics(train_test_sets[2][1], fitted_clf, [cutoff])"
   ]
  },
  {
   "cell_type": "markdown",
   "metadata": {},
   "source": [
    "If DonorsChoose.org wanted to ensure that among the projects they choose to feature on the page, as many as possible were truly at risk of not being funded within 60 days, they should choose a model with high precision. In other words, among the projects this model deems to be at risk, many of them would be correctly at risk. Of the models shown above, the Ada Boost at a threshold of about 0.5 has the highest precision, at 0.48. Among the projects in the test set used in the Ada Boost model, 48% really ended up not being funded within 60 days. About 28.4% of the projects in this test set overall did not get funded within 60 days, so using the Ada Boost model would be significantly better than randomly selecting projects to be featured.\n",
    "\n",
    "Another evaluation metric DonorsChoose.org may care about is recall. That is, among all the projects at risk of not being fully funded within 60 days, how many will they correctly choose to feature. The model above with the highest recall for which we can choose 5% of the population was random forest at a threshold of 0.8 with recall of 0.1. Had DonorsChoose.org used the bagging model in this test set, 10% of projects that did not get fully funded within 60 days would have been specially featured. However, since random forest had a precision of 0.4, only 40% of projects chosen under random forest would truly be at risk. Meanwhile, the Ada Boost model has a recall of 0.09, which is similar to that of random forest.\n",
    "\n",
    "I would recommend that DonorsChoose.org use the Ada Boost model to select projects to be featured on their site. In doing so, they will improve their chances of featuring projects that are truly at risk of not being fully funded within 60 days of date posted."
   ]
  }
 ],
 "metadata": {
  "kernelspec": {
   "display_name": "Python 3",
   "language": "python",
   "name": "python3"
  },
  "language_info": {
   "codemirror_mode": {
    "name": "ipython",
    "version": 3
   },
   "file_extension": ".py",
   "mimetype": "text/x-python",
   "name": "python",
   "nbconvert_exporter": "python",
   "pygments_lexer": "ipython3",
   "version": "3.7.3"
  }
 },
 "nbformat": 4,
 "nbformat_minor": 2
}
